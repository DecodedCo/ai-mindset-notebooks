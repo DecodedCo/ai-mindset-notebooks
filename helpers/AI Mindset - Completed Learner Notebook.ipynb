{
  "nbformat": 4,
  "nbformat_minor": 0,
  "metadata": {
    "kernelspec": {
      "display_name": "Python 3",
      "language": "python",
      "name": "python3"
    },
    "language_info": {
      "codemirror_mode": {
        "name": "ipython",
        "version": 3
      },
      "file_extension": ".py",
      "mimetype": "text/x-python",
      "name": "python",
      "nbconvert_exporter": "python",
      "pygments_lexer": "ipython3",
      "version": "3.7.4"
    },
    "colab": {
      "name": "AI Mindset - Learner Notebook-Copy1.ipynb",
      "provenance": []
    }
  },
  "cells": [
    {
      "cell_type": "markdown",
      "metadata": {
        "id": "EiQKHQ3piTxI",
        "colab_type": "text"
      },
      "source": [
        "## 1. Import libraries"
      ]
    },
    {
      "cell_type": "code",
      "metadata": {
        "id": "ch51TSTKiTxL",
        "colab_type": "code",
        "colab": {}
      },
      "source": [
        "import pandas as pd\n",
        "import numpy as np\n",
        "from sklearn import tree"
      ],
      "execution_count": 0,
      "outputs": []
    },
    {
      "cell_type": "markdown",
      "metadata": {
        "id": "48F2cgZViTxP",
        "colab_type": "text"
      },
      "source": [
        "## 2. Load data"
      ]
    },
    {
      "cell_type": "code",
      "metadata": {
        "id": "-RKzdLYkiTxQ",
        "colab_type": "code",
        "colab": {
          "base_uri": "https://localhost:8080/",
          "height": 326
        },
        "outputId": "950e988a-cabd-40b3-9523-9702787b2fe6"
      },
      "source": [
        "data = pd.read_csv(\"HR_data.csv\")\n",
        "data.head()"
      ],
      "execution_count": 4,
      "outputs": [
        {
          "output_type": "execute_result",
          "data": {
            "text/html": [
              "<div>\n",
              "<style scoped>\n",
              "    .dataframe tbody tr th:only-of-type {\n",
              "        vertical-align: middle;\n",
              "    }\n",
              "\n",
              "    .dataframe tbody tr th {\n",
              "        vertical-align: top;\n",
              "    }\n",
              "\n",
              "    .dataframe thead th {\n",
              "        text-align: right;\n",
              "    }\n",
              "</style>\n",
              "<table border=\"1\" class=\"dataframe\">\n",
              "  <thead>\n",
              "    <tr style=\"text-align: right;\">\n",
              "      <th></th>\n",
              "      <th>department</th>\n",
              "      <th>region</th>\n",
              "      <th>termination_date</th>\n",
              "      <th>bracket_salary 1</th>\n",
              "      <th>salary</th>\n",
              "      <th>satisfaction_level</th>\n",
              "      <th>last_evaluation</th>\n",
              "      <th>number_project</th>\n",
              "      <th>average_monthly_hours</th>\n",
              "      <th>time_spend_company</th>\n",
              "      <th>work_accident</th>\n",
              "      <th>promotion_last_5years</th>\n",
              "      <th>resigned</th>\n",
              "    </tr>\n",
              "  </thead>\n",
              "  <tbody>\n",
              "    <tr>\n",
              "      <th>0</th>\n",
              "      <td>technical</td>\n",
              "      <td>US</td>\n",
              "      <td>2015-06-27T00:00:00Z</td>\n",
              "      <td>low</td>\n",
              "      <td>52000</td>\n",
              "      <td>0.82</td>\n",
              "      <td>0.63</td>\n",
              "      <td>4</td>\n",
              "      <td>232</td>\n",
              "      <td>4</td>\n",
              "      <td>0</td>\n",
              "      <td>0</td>\n",
              "      <td>0</td>\n",
              "    </tr>\n",
              "    <tr>\n",
              "      <th>1</th>\n",
              "      <td>product_mng</td>\n",
              "      <td>Europe</td>\n",
              "      <td>2017-02-24T00:00:00Z</td>\n",
              "      <td>low</td>\n",
              "      <td>36000</td>\n",
              "      <td>0.72</td>\n",
              "      <td>0.79</td>\n",
              "      <td>4</td>\n",
              "      <td>154</td>\n",
              "      <td>3</td>\n",
              "      <td>0</td>\n",
              "      <td>0</td>\n",
              "      <td>0</td>\n",
              "    </tr>\n",
              "    <tr>\n",
              "      <th>2</th>\n",
              "      <td>sales</td>\n",
              "      <td>Canada</td>\n",
              "      <td>2008-12-06T00:00:00Z</td>\n",
              "      <td>medium</td>\n",
              "      <td>77000</td>\n",
              "      <td>0.71</td>\n",
              "      <td>0.88</td>\n",
              "      <td>3</td>\n",
              "      <td>140</td>\n",
              "      <td>2</td>\n",
              "      <td>0</td>\n",
              "      <td>0</td>\n",
              "      <td>0</td>\n",
              "    </tr>\n",
              "    <tr>\n",
              "      <th>3</th>\n",
              "      <td>support</td>\n",
              "      <td>US</td>\n",
              "      <td>2015-11-22T00:00:00Z</td>\n",
              "      <td>medium</td>\n",
              "      <td>70000</td>\n",
              "      <td>0.53</td>\n",
              "      <td>0.75</td>\n",
              "      <td>4</td>\n",
              "      <td>239</td>\n",
              "      <td>2</td>\n",
              "      <td>1</td>\n",
              "      <td>0</td>\n",
              "      <td>0</td>\n",
              "    </tr>\n",
              "    <tr>\n",
              "      <th>4</th>\n",
              "      <td>technical</td>\n",
              "      <td>US</td>\n",
              "      <td>2009-03-29T00:00:00Z</td>\n",
              "      <td>medium</td>\n",
              "      <td>76000</td>\n",
              "      <td>0.49</td>\n",
              "      <td>0.49</td>\n",
              "      <td>2</td>\n",
              "      <td>245</td>\n",
              "      <td>3</td>\n",
              "      <td>0</td>\n",
              "      <td>0</td>\n",
              "      <td>0</td>\n",
              "    </tr>\n",
              "  </tbody>\n",
              "</table>\n",
              "</div>"
            ],
            "text/plain": [
              "    department  region  ... promotion_last_5years resigned\n",
              "0    technical      US  ...                     0        0\n",
              "1  product_mng  Europe  ...                     0        0\n",
              "2        sales  Canada  ...                     0        0\n",
              "3      support      US  ...                     0        0\n",
              "4    technical      US  ...                     0        0\n",
              "\n",
              "[5 rows x 13 columns]"
            ]
          },
          "metadata": {
            "tags": []
          },
          "execution_count": 4
        }
      ]
    },
    {
      "cell_type": "markdown",
      "metadata": {
        "id": "Utc9i7RsiTxU",
        "colab_type": "text"
      },
      "source": [
        "## 3. Build model"
      ]
    },
    {
      "cell_type": "code",
      "metadata": {
        "id": "kPhc9YeeiTxV",
        "colab_type": "code",
        "colab": {}
      },
      "source": [
        "# Look at your data and determine the columns for your output (Y) and usable input (X)\n",
        "Y = data.loc[:, \"resigned\"]\n",
        "X = data.loc[:, \"salary\":\"promotion_last_5years\"]"
      ],
      "execution_count": 0,
      "outputs": []
    },
    {
      "cell_type": "code",
      "metadata": {
        "id": "DB83BXeCiTxa",
        "colab_type": "code",
        "colab": {}
      },
      "source": [
        "clf = tree.DecisionTreeClassifier(max_depth = 3)\n",
        "clf = clf.fit(X, Y)"
      ],
      "execution_count": 0,
      "outputs": []
    },
    {
      "cell_type": "markdown",
      "metadata": {
        "id": "TunYddnDiTxd",
        "colab_type": "text"
      },
      "source": [
        "## 4. Evaluate"
      ]
    },
    {
      "cell_type": "code",
      "metadata": {
        "id": "bLYq16uqiTxe",
        "colab_type": "code",
        "colab": {
          "base_uri": "https://localhost:8080/",
          "height": 34
        },
        "outputId": "1e407488-634c-4ce6-e223-00c970536139"
      },
      "source": [
        "clf.score(X,Y)"
      ],
      "execution_count": 7,
      "outputs": [
        {
          "output_type": "execute_result",
          "data": {
            "text/plain": [
              "0.9524750415973378"
            ]
          },
          "metadata": {
            "tags": []
          },
          "execution_count": 7
        }
      ]
    },
    {
      "cell_type": "code",
      "metadata": {
        "id": "jseG5_MxiTxh",
        "colab_type": "code",
        "colab": {
          "base_uri": "https://localhost:8080/",
          "height": 618
        },
        "outputId": "3563abeb-c0a9-44eb-c36d-bdacf04ba916"
      },
      "source": [
        "import graphviz\n",
        "\n",
        "dot_data = tree.export_graphviz(clf, out_file=None, \n",
        "                         feature_names = X.columns,  \n",
        "                         class_names = [\"stay\",\"leave\"],  \n",
        "                         filled=True, rounded=True,  \n",
        "                         special_characters=True)  \n",
        "graph = graphviz.Source(dot_data)  \n",
        "graph "
      ],
      "execution_count": 8,
      "outputs": [
        {
          "output_type": "execute_result",
          "data": {
            "text/plain": [
              "<graphviz.files.Source at 0x7fac91939978>"
            ],
            "image/svg+xml": "<?xml version=\"1.0\" encoding=\"UTF-8\" standalone=\"no\"?>\n<!DOCTYPE svg PUBLIC \"-//W3C//DTD SVG 1.1//EN\"\n \"http://www.w3.org/Graphics/SVG/1.1/DTD/svg11.dtd\">\n<!-- Generated by graphviz version 2.40.1 (20161225.0304)\n -->\n<!-- Title: Tree Pages: 1 -->\n<svg width=\"1096pt\" height=\"433pt\"\n viewBox=\"0.00 0.00 1096.00 433.00\" xmlns=\"http://www.w3.org/2000/svg\" xmlns:xlink=\"http://www.w3.org/1999/xlink\">\n<g id=\"graph0\" class=\"graph\" transform=\"scale(1 1) rotate(0) translate(4 429)\">\n<title>Tree</title>\n<polygon fill=\"#ffffff\" stroke=\"transparent\" points=\"-4,4 -4,-429 1092,-429 1092,4 -4,4\"/>\n<!-- 0 -->\n<g id=\"node1\" class=\"node\">\n<title>0</title>\n<path fill=\"#eda876\" stroke=\"#000000\" d=\"M601.5,-425C601.5,-425 446.5,-425 446.5,-425 440.5,-425 434.5,-419 434.5,-413 434.5,-413 434.5,-354 434.5,-354 434.5,-348 440.5,-342 446.5,-342 446.5,-342 601.5,-342 601.5,-342 607.5,-342 613.5,-348 613.5,-354 613.5,-354 613.5,-413 613.5,-413 613.5,-419 607.5,-425 601.5,-425\"/>\n<text text-anchor=\"start\" x=\"442.5\" y=\"-409.8\" font-family=\"Helvetica,sans-Serif\" font-size=\"14.00\" fill=\"#000000\">satisfaction_level ≤ 0.465</text>\n<text text-anchor=\"start\" x=\"486\" y=\"-394.8\" font-family=\"Helvetica,sans-Serif\" font-size=\"14.00\" fill=\"#000000\">gini = 0.359</text>\n<text text-anchor=\"start\" x=\"472\" y=\"-379.8\" font-family=\"Helvetica,sans-Serif\" font-size=\"14.00\" fill=\"#000000\">samples = 9616</text>\n<text text-anchor=\"start\" x=\"457.5\" y=\"-364.8\" font-family=\"Helvetica,sans-Serif\" font-size=\"14.00\" fill=\"#000000\">value = [7362, 2254]</text>\n<text text-anchor=\"start\" x=\"485.5\" y=\"-349.8\" font-family=\"Helvetica,sans-Serif\" font-size=\"14.00\" fill=\"#000000\">class = stay</text>\n</g>\n<!-- 1 -->\n<g id=\"node2\" class=\"node\">\n<title>1</title>\n<path fill=\"#bcdef6\" stroke=\"#000000\" d=\"M478.5,-306C478.5,-306 349.5,-306 349.5,-306 343.5,-306 337.5,-300 337.5,-294 337.5,-294 337.5,-235 337.5,-235 337.5,-229 343.5,-223 349.5,-223 349.5,-223 478.5,-223 478.5,-223 484.5,-223 490.5,-229 490.5,-235 490.5,-235 490.5,-294 490.5,-294 490.5,-300 484.5,-306 478.5,-306\"/>\n<text text-anchor=\"start\" x=\"345.5\" y=\"-290.8\" font-family=\"Helvetica,sans-Serif\" font-size=\"14.00\" fill=\"#000000\">number_project ≤ 2.5</text>\n<text text-anchor=\"start\" x=\"376\" y=\"-275.8\" font-family=\"Helvetica,sans-Serif\" font-size=\"14.00\" fill=\"#000000\">gini = 0.479</text>\n<text text-anchor=\"start\" x=\"362\" y=\"-260.8\" font-family=\"Helvetica,sans-Serif\" font-size=\"14.00\" fill=\"#000000\">samples = 2644</text>\n<text text-anchor=\"start\" x=\"347.5\" y=\"-245.8\" font-family=\"Helvetica,sans-Serif\" font-size=\"14.00\" fill=\"#000000\">value = [1053, 1591]</text>\n<text text-anchor=\"start\" x=\"371.5\" y=\"-230.8\" font-family=\"Helvetica,sans-Serif\" font-size=\"14.00\" fill=\"#000000\">class = leave</text>\n</g>\n<!-- 0&#45;&gt;1 -->\n<g id=\"edge1\" class=\"edge\">\n<title>0&#45;&gt;1</title>\n<path fill=\"none\" stroke=\"#000000\" d=\"M485.5273,-341.8796C477.1189,-332.7832 468.1424,-323.0722 459.4897,-313.7116\"/>\n<polygon fill=\"#000000\" stroke=\"#000000\" points=\"461.995,-311.2656 452.6369,-306.2981 456.8547,-316.0172 461.995,-311.2656\"/>\n<text text-anchor=\"middle\" x=\"451.6551\" y=\"-327.5788\" font-family=\"Helvetica,sans-Serif\" font-size=\"14.00\" fill=\"#000000\">True</text>\n</g>\n<!-- 8 -->\n<g id=\"node9\" class=\"node\">\n<title>8</title>\n<path fill=\"#e88e4e\" stroke=\"#000000\" d=\"M722,-306C722,-306 550,-306 550,-306 544,-306 538,-300 538,-294 538,-294 538,-235 538,-235 538,-229 544,-223 550,-223 550,-223 722,-223 722,-223 728,-223 734,-229 734,-235 734,-235 734,-294 734,-294 734,-300 728,-306 722,-306\"/>\n<text text-anchor=\"start\" x=\"546\" y=\"-290.8\" font-family=\"Helvetica,sans-Serif\" font-size=\"14.00\" fill=\"#000000\">time_spend_company ≤ 4.5</text>\n<text text-anchor=\"start\" x=\"598\" y=\"-275.8\" font-family=\"Helvetica,sans-Serif\" font-size=\"14.00\" fill=\"#000000\">gini = 0.172</text>\n<text text-anchor=\"start\" x=\"584\" y=\"-260.8\" font-family=\"Helvetica,sans-Serif\" font-size=\"14.00\" fill=\"#000000\">samples = 6972</text>\n<text text-anchor=\"start\" x=\"574\" y=\"-245.8\" font-family=\"Helvetica,sans-Serif\" font-size=\"14.00\" fill=\"#000000\">value = [6309, 663]</text>\n<text text-anchor=\"start\" x=\"597.5\" y=\"-230.8\" font-family=\"Helvetica,sans-Serif\" font-size=\"14.00\" fill=\"#000000\">class = stay</text>\n</g>\n<!-- 0&#45;&gt;8 -->\n<g id=\"edge8\" class=\"edge\">\n<title>0&#45;&gt;8</title>\n<path fill=\"none\" stroke=\"#000000\" d=\"M563.1722,-341.8796C571.7335,-332.7832 580.8732,-323.0722 589.6832,-313.7116\"/>\n<polygon fill=\"#000000\" stroke=\"#000000\" points=\"592.3557,-315.9789 596.6606,-306.2981 587.2583,-311.1813 592.3557,-315.9789\"/>\n<text text-anchor=\"middle\" x=\"597.4179\" y=\"-327.5866\" font-family=\"Helvetica,sans-Serif\" font-size=\"14.00\" fill=\"#000000\">False</text>\n</g>\n<!-- 2 -->\n<g id=\"node3\" class=\"node\">\n<title>2</title>\n<path fill=\"#51a9e8\" stroke=\"#000000\" d=\"M267,-187C267,-187 125,-187 125,-187 119,-187 113,-181 113,-175 113,-175 113,-116 113,-116 113,-110 119,-104 125,-104 125,-104 267,-104 267,-104 273,-104 279,-110 279,-116 279,-116 279,-175 279,-175 279,-181 273,-187 267,-187\"/>\n<text text-anchor=\"start\" x=\"121\" y=\"-171.8\" font-family=\"Helvetica,sans-Serif\" font-size=\"14.00\" fill=\"#000000\">last_evaluation ≤ 0.575</text>\n<text text-anchor=\"start\" x=\"158\" y=\"-156.8\" font-family=\"Helvetica,sans-Serif\" font-size=\"14.00\" fill=\"#000000\">gini = 0.196</text>\n<text text-anchor=\"start\" x=\"144\" y=\"-141.8\" font-family=\"Helvetica,sans-Serif\" font-size=\"14.00\" fill=\"#000000\">samples = 1072</text>\n<text text-anchor=\"start\" x=\"138\" y=\"-126.8\" font-family=\"Helvetica,sans-Serif\" font-size=\"14.00\" fill=\"#000000\">value = [118, 954]</text>\n<text text-anchor=\"start\" x=\"153.5\" y=\"-111.8\" font-family=\"Helvetica,sans-Serif\" font-size=\"14.00\" fill=\"#000000\">class = leave</text>\n</g>\n<!-- 1&#45;&gt;2 -->\n<g id=\"edge2\" class=\"edge\">\n<title>1&#45;&gt;2</title>\n<path fill=\"none\" stroke=\"#000000\" d=\"M337.7542,-222.8796C319.4168,-212.8697 299.716,-202.1156 281.0074,-191.9031\"/>\n<polygon fill=\"#000000\" stroke=\"#000000\" points=\"282.6572,-188.8162 272.2028,-187.0969 279.3032,-194.9604 282.6572,-188.8162\"/>\n</g>\n<!-- 5 -->\n<g id=\"node6\" class=\"node\">\n<title>5</title>\n<path fill=\"#f7d7c0\" stroke=\"#000000\" d=\"M491.5,-187C491.5,-187 336.5,-187 336.5,-187 330.5,-187 324.5,-181 324.5,-175 324.5,-175 324.5,-116 324.5,-116 324.5,-110 330.5,-104 336.5,-104 336.5,-104 491.5,-104 491.5,-104 497.5,-104 503.5,-110 503.5,-116 503.5,-116 503.5,-175 503.5,-175 503.5,-181 497.5,-187 491.5,-187\"/>\n<text text-anchor=\"start\" x=\"332.5\" y=\"-171.8\" font-family=\"Helvetica,sans-Serif\" font-size=\"14.00\" fill=\"#000000\">satisfaction_level ≤ 0.115</text>\n<text text-anchor=\"start\" x=\"376\" y=\"-156.8\" font-family=\"Helvetica,sans-Serif\" font-size=\"14.00\" fill=\"#000000\">gini = 0.482</text>\n<text text-anchor=\"start\" x=\"362\" y=\"-141.8\" font-family=\"Helvetica,sans-Serif\" font-size=\"14.00\" fill=\"#000000\">samples = 1572</text>\n<text text-anchor=\"start\" x=\"356\" y=\"-126.8\" font-family=\"Helvetica,sans-Serif\" font-size=\"14.00\" fill=\"#000000\">value = [935, 637]</text>\n<text text-anchor=\"start\" x=\"375.5\" y=\"-111.8\" font-family=\"Helvetica,sans-Serif\" font-size=\"14.00\" fill=\"#000000\">class = stay</text>\n</g>\n<!-- 1&#45;&gt;5 -->\n<g id=\"edge5\" class=\"edge\">\n<title>1&#45;&gt;5</title>\n<path fill=\"none\" stroke=\"#000000\" d=\"M414,-222.8796C414,-214.6838 414,-205.9891 414,-197.5013\"/>\n<polygon fill=\"#000000\" stroke=\"#000000\" points=\"417.5001,-197.298 414,-187.2981 410.5001,-197.2981 417.5001,-197.298\"/>\n</g>\n<!-- 3 -->\n<g id=\"node4\" class=\"node\">\n<title>3</title>\n<path fill=\"#44a2e6\" stroke=\"#000000\" d=\"M112,-68C112,-68 12,-68 12,-68 6,-68 0,-62 0,-56 0,-56 0,-12 0,-12 0,-6 6,0 12,0 12,0 112,0 112,0 118,0 124,-6 124,-12 124,-12 124,-56 124,-56 124,-62 118,-68 112,-68\"/>\n<text text-anchor=\"start\" x=\"24\" y=\"-52.8\" font-family=\"Helvetica,sans-Serif\" font-size=\"14.00\" fill=\"#000000\">gini = 0.098</text>\n<text text-anchor=\"start\" x=\"10\" y=\"-37.8\" font-family=\"Helvetica,sans-Serif\" font-size=\"14.00\" fill=\"#000000\">samples = 1002</text>\n<text text-anchor=\"start\" x=\"8\" y=\"-22.8\" font-family=\"Helvetica,sans-Serif\" font-size=\"14.00\" fill=\"#000000\">value = [52, 950]</text>\n<text text-anchor=\"start\" x=\"19.5\" y=\"-7.8\" font-family=\"Helvetica,sans-Serif\" font-size=\"14.00\" fill=\"#000000\">class = leave</text>\n</g>\n<!-- 2&#45;&gt;3 -->\n<g id=\"edge3\" class=\"edge\">\n<title>2&#45;&gt;3</title>\n<path fill=\"none\" stroke=\"#000000\" d=\"M146.1033,-103.9815C134.6162,-94.4232 122.4103,-84.2668 110.9633,-74.7419\"/>\n<polygon fill=\"#000000\" stroke=\"#000000\" points=\"113.1035,-71.9695 103.1779,-68.2637 108.6261,-77.3503 113.1035,-71.9695\"/>\n</g>\n<!-- 4 -->\n<g id=\"node5\" class=\"node\">\n<title>4</title>\n<path fill=\"#e78945\" stroke=\"#000000\" d=\"M237.5,-68C237.5,-68 154.5,-68 154.5,-68 148.5,-68 142.5,-62 142.5,-56 142.5,-56 142.5,-12 142.5,-12 142.5,-6 148.5,0 154.5,0 154.5,0 237.5,0 237.5,0 243.5,0 249.5,-6 249.5,-12 249.5,-12 249.5,-56 249.5,-56 249.5,-62 243.5,-68 237.5,-68\"/>\n<text text-anchor=\"start\" x=\"158\" y=\"-52.8\" font-family=\"Helvetica,sans-Serif\" font-size=\"14.00\" fill=\"#000000\">gini = 0.108</text>\n<text text-anchor=\"start\" x=\"152\" y=\"-37.8\" font-family=\"Helvetica,sans-Serif\" font-size=\"14.00\" fill=\"#000000\">samples = 70</text>\n<text text-anchor=\"start\" x=\"150.5\" y=\"-22.8\" font-family=\"Helvetica,sans-Serif\" font-size=\"14.00\" fill=\"#000000\">value = [66, 4]</text>\n<text text-anchor=\"start\" x=\"157.5\" y=\"-7.8\" font-family=\"Helvetica,sans-Serif\" font-size=\"14.00\" fill=\"#000000\">class = stay</text>\n</g>\n<!-- 2&#45;&gt;4 -->\n<g id=\"edge4\" class=\"edge\">\n<title>2&#45;&gt;4</title>\n<path fill=\"none\" stroke=\"#000000\" d=\"M196,-103.9815C196,-95.618 196,-86.7965 196,-78.3409\"/>\n<polygon fill=\"#000000\" stroke=\"#000000\" points=\"199.5001,-78.2636 196,-68.2637 192.5001,-78.2637 199.5001,-78.2636\"/>\n</g>\n<!-- 6 -->\n<g id=\"node7\" class=\"node\">\n<title>6</title>\n<path fill=\"#399de5\" stroke=\"#000000\" d=\"M372,-68C372,-68 280,-68 280,-68 274,-68 268,-62 268,-56 268,-56 268,-12 268,-12 268,-6 274,0 280,0 280,0 372,0 372,0 378,0 384,-6 384,-12 384,-12 384,-56 384,-56 384,-62 378,-68 372,-68\"/>\n<text text-anchor=\"start\" x=\"296.5\" y=\"-52.8\" font-family=\"Helvetica,sans-Serif\" font-size=\"14.00\" fill=\"#000000\">gini = 0.0</text>\n<text text-anchor=\"start\" x=\"278\" y=\"-37.8\" font-family=\"Helvetica,sans-Serif\" font-size=\"14.00\" fill=\"#000000\">samples = 565</text>\n<text text-anchor=\"start\" x=\"276\" y=\"-22.8\" font-family=\"Helvetica,sans-Serif\" font-size=\"14.00\" fill=\"#000000\">value = [0, 565]</text>\n<text text-anchor=\"start\" x=\"283.5\" y=\"-7.8\" font-family=\"Helvetica,sans-Serif\" font-size=\"14.00\" fill=\"#000000\">class = leave</text>\n</g>\n<!-- 5&#45;&gt;6 -->\n<g id=\"edge6\" class=\"edge\">\n<title>5&#45;&gt;6</title>\n<path fill=\"none\" stroke=\"#000000\" d=\"M381.232,-103.9815C374.051,-94.8828 366.4421,-85.242 359.2426,-76.1199\"/>\n<polygon fill=\"#000000\" stroke=\"#000000\" points=\"361.9849,-73.9451 353.0422,-68.2637 356.4901,-78.2818 361.9849,-73.9451\"/>\n</g>\n<!-- 7 -->\n<g id=\"node8\" class=\"node\">\n<title>7</title>\n<path fill=\"#e78b48\" stroke=\"#000000\" d=\"M514,-68C514,-68 414,-68 414,-68 408,-68 402,-62 402,-56 402,-56 402,-12 402,-12 402,-6 408,0 414,0 414,0 514,0 514,0 520,0 526,-6 526,-12 526,-12 526,-56 526,-56 526,-62 520,-68 514,-68\"/>\n<text text-anchor=\"start\" x=\"426\" y=\"-52.8\" font-family=\"Helvetica,sans-Serif\" font-size=\"14.00\" fill=\"#000000\">gini = 0.133</text>\n<text text-anchor=\"start\" x=\"412\" y=\"-37.8\" font-family=\"Helvetica,sans-Serif\" font-size=\"14.00\" fill=\"#000000\">samples = 1007</text>\n<text text-anchor=\"start\" x=\"410\" y=\"-22.8\" font-family=\"Helvetica,sans-Serif\" font-size=\"14.00\" fill=\"#000000\">value = [935, 72]</text>\n<text text-anchor=\"start\" x=\"425.5\" y=\"-7.8\" font-family=\"Helvetica,sans-Serif\" font-size=\"14.00\" fill=\"#000000\">class = stay</text>\n</g>\n<!-- 5&#45;&gt;7 -->\n<g id=\"edge7\" class=\"edge\">\n<title>5&#45;&gt;7</title>\n<path fill=\"none\" stroke=\"#000000\" d=\"M432.6182,-103.9815C436.4922,-95.3423 440.5855,-86.2144 444.4906,-77.5059\"/>\n<polygon fill=\"#000000\" stroke=\"#000000\" points=\"447.7369,-78.8204 448.6351,-68.2637 441.3497,-75.9561 447.7369,-78.8204\"/>\n</g>\n<!-- 9 -->\n<g id=\"node10\" class=\"node\">\n<title>9</title>\n<path fill=\"#e5833c\" stroke=\"#000000\" d=\"M737,-187C737,-187 535,-187 535,-187 529,-187 523,-181 523,-175 523,-175 523,-116 523,-116 523,-110 529,-104 535,-104 535,-104 737,-104 737,-104 743,-104 749,-110 749,-116 749,-116 749,-175 749,-175 749,-181 743,-187 737,-187\"/>\n<text text-anchor=\"start\" x=\"531\" y=\"-171.8\" font-family=\"Helvetica,sans-Serif\" font-size=\"14.00\" fill=\"#000000\">average_monthly_hours ≤ 290.5</text>\n<text text-anchor=\"start\" x=\"598\" y=\"-156.8\" font-family=\"Helvetica,sans-Serif\" font-size=\"14.00\" fill=\"#000000\">gini = 0.029</text>\n<text text-anchor=\"start\" x=\"584\" y=\"-141.8\" font-family=\"Helvetica,sans-Serif\" font-size=\"14.00\" fill=\"#000000\">samples = 5682</text>\n<text text-anchor=\"start\" x=\"578\" y=\"-126.8\" font-family=\"Helvetica,sans-Serif\" font-size=\"14.00\" fill=\"#000000\">value = [5597, 85]</text>\n<text text-anchor=\"start\" x=\"597.5\" y=\"-111.8\" font-family=\"Helvetica,sans-Serif\" font-size=\"14.00\" fill=\"#000000\">class = stay</text>\n</g>\n<!-- 8&#45;&gt;9 -->\n<g id=\"edge9\" class=\"edge\">\n<title>8&#45;&gt;9</title>\n<path fill=\"none\" stroke=\"#000000\" d=\"M636,-222.8796C636,-214.6838 636,-205.9891 636,-197.5013\"/>\n<polygon fill=\"#000000\" stroke=\"#000000\" points=\"639.5001,-197.298 636,-187.2981 632.5001,-197.2981 639.5001,-197.298\"/>\n</g>\n<!-- 12 -->\n<g id=\"node13\" class=\"node\">\n<title>12</title>\n<path fill=\"#fae7da\" stroke=\"#000000\" d=\"M947,-187C947,-187 805,-187 805,-187 799,-187 793,-181 793,-175 793,-175 793,-116 793,-116 793,-110 799,-104 805,-104 805,-104 947,-104 947,-104 953,-104 959,-110 959,-116 959,-116 959,-175 959,-175 959,-181 953,-187 947,-187\"/>\n<text text-anchor=\"start\" x=\"801\" y=\"-171.8\" font-family=\"Helvetica,sans-Serif\" font-size=\"14.00\" fill=\"#000000\">last_evaluation ≤ 0.805</text>\n<text text-anchor=\"start\" x=\"838\" y=\"-156.8\" font-family=\"Helvetica,sans-Serif\" font-size=\"14.00\" fill=\"#000000\">gini = 0.495</text>\n<text text-anchor=\"start\" x=\"824\" y=\"-141.8\" font-family=\"Helvetica,sans-Serif\" font-size=\"14.00\" fill=\"#000000\">samples = 1290</text>\n<text text-anchor=\"start\" x=\"818\" y=\"-126.8\" font-family=\"Helvetica,sans-Serif\" font-size=\"14.00\" fill=\"#000000\">value = [712, 578]</text>\n<text text-anchor=\"start\" x=\"837.5\" y=\"-111.8\" font-family=\"Helvetica,sans-Serif\" font-size=\"14.00\" fill=\"#000000\">class = stay</text>\n</g>\n<!-- 8&#45;&gt;12 -->\n<g id=\"edge12\" class=\"edge\">\n<title>8&#45;&gt;12</title>\n<path fill=\"none\" stroke=\"#000000\" d=\"M719.9404,-222.8796C740.5465,-212.6624 762.7164,-201.6698 783.6924,-191.2692\"/>\n<polygon fill=\"#000000\" stroke=\"#000000\" points=\"785.5128,-194.2732 792.9172,-186.6952 782.4032,-188.0018 785.5128,-194.2732\"/>\n</g>\n<!-- 10 -->\n<g id=\"node11\" class=\"node\">\n<title>10</title>\n<path fill=\"#e5833c\" stroke=\"#000000\" d=\"M664,-68C664,-68 556,-68 556,-68 550,-68 544,-62 544,-56 544,-56 544,-12 544,-12 544,-6 550,0 556,0 556,0 664,0 664,0 670,0 676,-6 676,-12 676,-12 676,-56 676,-56 676,-62 670,-68 664,-68\"/>\n<text text-anchor=\"start\" x=\"572\" y=\"-52.8\" font-family=\"Helvetica,sans-Serif\" font-size=\"14.00\" fill=\"#000000\">gini = 0.027</text>\n<text text-anchor=\"start\" x=\"558\" y=\"-37.8\" font-family=\"Helvetica,sans-Serif\" font-size=\"14.00\" fill=\"#000000\">samples = 5675</text>\n<text text-anchor=\"start\" x=\"552\" y=\"-22.8\" font-family=\"Helvetica,sans-Serif\" font-size=\"14.00\" fill=\"#000000\">value = [5597, 78]</text>\n<text text-anchor=\"start\" x=\"571.5\" y=\"-7.8\" font-family=\"Helvetica,sans-Serif\" font-size=\"14.00\" fill=\"#000000\">class = stay</text>\n</g>\n<!-- 9&#45;&gt;10 -->\n<g id=\"edge10\" class=\"edge\">\n<title>9&#45;&gt;10</title>\n<path fill=\"none\" stroke=\"#000000\" d=\"M626.3186,-103.9815C624.3469,-95.5261 622.2661,-86.6026 620.2746,-78.0623\"/>\n<polygon fill=\"#000000\" stroke=\"#000000\" points=\"623.6693,-77.2076 617.9897,-68.2637 616.8522,-78.7973 623.6693,-77.2076\"/>\n</g>\n<!-- 11 -->\n<g id=\"node12\" class=\"node\">\n<title>11</title>\n<path fill=\"#399de5\" stroke=\"#000000\" d=\"M783.5,-68C783.5,-68 706.5,-68 706.5,-68 700.5,-68 694.5,-62 694.5,-56 694.5,-56 694.5,-12 694.5,-12 694.5,-6 700.5,0 706.5,0 706.5,0 783.5,0 783.5,0 789.5,0 795.5,-6 795.5,-12 795.5,-12 795.5,-56 795.5,-56 795.5,-62 789.5,-68 783.5,-68\"/>\n<text text-anchor=\"start\" x=\"715.5\" y=\"-52.8\" font-family=\"Helvetica,sans-Serif\" font-size=\"14.00\" fill=\"#000000\">gini = 0.0</text>\n<text text-anchor=\"start\" x=\"705.5\" y=\"-37.8\" font-family=\"Helvetica,sans-Serif\" font-size=\"14.00\" fill=\"#000000\">samples = 7</text>\n<text text-anchor=\"start\" x=\"703.5\" y=\"-22.8\" font-family=\"Helvetica,sans-Serif\" font-size=\"14.00\" fill=\"#000000\">value = [0, 7]</text>\n<text text-anchor=\"start\" x=\"702.5\" y=\"-7.8\" font-family=\"Helvetica,sans-Serif\" font-size=\"14.00\" fill=\"#000000\">class = leave</text>\n</g>\n<!-- 9&#45;&gt;11 -->\n<g id=\"edge11\" class=\"edge\">\n<title>9&#45;&gt;11</title>\n<path fill=\"none\" stroke=\"#000000\" d=\"M676.5876,-103.9815C685.662,-94.6989 695.2879,-84.8522 704.3643,-75.5677\"/>\n<polygon fill=\"#000000\" stroke=\"#000000\" points=\"707.0169,-77.8611 711.5046,-68.2637 702.0113,-72.9678 707.0169,-77.8611\"/>\n</g>\n<!-- 13 -->\n<g id=\"node14\" class=\"node\">\n<title>13</title>\n<path fill=\"#e68640\" stroke=\"#000000\" d=\"M926,-68C926,-68 826,-68 826,-68 820,-68 814,-62 814,-56 814,-56 814,-12 814,-12 814,-6 820,0 826,0 826,0 926,0 926,0 932,0 938,-6 938,-12 938,-12 938,-56 938,-56 938,-62 932,-68 926,-68\"/>\n<text text-anchor=\"start\" x=\"842.5\" y=\"-52.8\" font-family=\"Helvetica,sans-Serif\" font-size=\"14.00\" fill=\"#000000\">gini = 0.07</text>\n<text text-anchor=\"start\" x=\"828\" y=\"-37.8\" font-family=\"Helvetica,sans-Serif\" font-size=\"14.00\" fill=\"#000000\">samples = 497</text>\n<text text-anchor=\"start\" x=\"822\" y=\"-22.8\" font-family=\"Helvetica,sans-Serif\" font-size=\"14.00\" fill=\"#000000\">value = [479, 18]</text>\n<text text-anchor=\"start\" x=\"837.5\" y=\"-7.8\" font-family=\"Helvetica,sans-Serif\" font-size=\"14.00\" fill=\"#000000\">class = stay</text>\n</g>\n<!-- 12&#45;&gt;13 -->\n<g id=\"edge13\" class=\"edge\">\n<title>12&#45;&gt;13</title>\n<path fill=\"none\" stroke=\"#000000\" d=\"M876,-103.9815C876,-95.618 876,-86.7965 876,-78.3409\"/>\n<polygon fill=\"#000000\" stroke=\"#000000\" points=\"879.5001,-78.2636 876,-68.2637 872.5001,-78.2637 879.5001,-78.2636\"/>\n</g>\n<!-- 14 -->\n<g id=\"node15\" class=\"node\">\n<title>14</title>\n<path fill=\"#8bc6f0\" stroke=\"#000000\" d=\"M1076,-68C1076,-68 968,-68 968,-68 962,-68 956,-62 956,-56 956,-56 956,-12 956,-12 956,-6 962,0 968,0 968,0 1076,0 1076,0 1082,0 1088,-6 1088,-12 1088,-12 1088,-56 1088,-56 1088,-62 1082,-68 1076,-68\"/>\n<text text-anchor=\"start\" x=\"984\" y=\"-52.8\" font-family=\"Helvetica,sans-Serif\" font-size=\"14.00\" fill=\"#000000\">gini = 0.415</text>\n<text text-anchor=\"start\" x=\"974\" y=\"-37.8\" font-family=\"Helvetica,sans-Serif\" font-size=\"14.00\" fill=\"#000000\">samples = 793</text>\n<text text-anchor=\"start\" x=\"964\" y=\"-22.8\" font-family=\"Helvetica,sans-Serif\" font-size=\"14.00\" fill=\"#000000\">value = [233, 560]</text>\n<text text-anchor=\"start\" x=\"979.5\" y=\"-7.8\" font-family=\"Helvetica,sans-Serif\" font-size=\"14.00\" fill=\"#000000\">class = leave</text>\n</g>\n<!-- 12&#45;&gt;14 -->\n<g id=\"edge14\" class=\"edge\">\n<title>12&#45;&gt;14</title>\n<path fill=\"none\" stroke=\"#000000\" d=\"M930.365,-103.9815C943.0011,-94.3313 956.4356,-84.0714 969.0115,-74.4673\"/>\n<polygon fill=\"#000000\" stroke=\"#000000\" points=\"971.3114,-77.1148 977.1346,-68.2637 967.0628,-71.5515 971.3114,-77.1148\"/>\n</g>\n</g>\n</svg>\n"
          },
          "metadata": {
            "tags": []
          },
          "execution_count": 8
        }
      ]
    },
    {
      "cell_type": "code",
      "metadata": {
        "id": "BV7q2QHEiTxk",
        "colab_type": "code",
        "colab": {
          "base_uri": "https://localhost:8080/",
          "height": 34
        },
        "outputId": "3f7dd064-676a-460a-d02a-2a18ea388b49"
      },
      "source": [
        "maria_data = (np.array([[58000, .82, .85, 4, 274, 5, 0, 0]]))\n",
        "clf.predict(maria_data)"
      ],
      "execution_count": 9,
      "outputs": [
        {
          "output_type": "execute_result",
          "data": {
            "text/plain": [
              "array([1])"
            ]
          },
          "metadata": {
            "tags": []
          },
          "execution_count": 9
        }
      ]
    },
    {
      "cell_type": "code",
      "metadata": {
        "id": "XapDuDIkiTxo",
        "colab_type": "code",
        "colab": {}
      },
      "source": [
        ""
      ],
      "execution_count": 0,
      "outputs": []
    }
  ]
}