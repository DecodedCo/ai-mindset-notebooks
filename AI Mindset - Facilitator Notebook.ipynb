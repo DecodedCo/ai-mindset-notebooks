{
 "cells": [
  {
   "cell_type": "markdown",
   "metadata": {},
   "source": [
    "## 1. Import libraries\n",
    "\n",
    "TELL: These are tools we are using that someone else already wrote. This is what data scientists do in practice - the hard part is determining what to do, not neccessarily how to do it. Here, we'll use *pandas* to manipulate our data and *sklearn* to build our decision tree model."
   ]
  },
  {
   "cell_type": "code",
   "execution_count": 1,
   "metadata": {},
   "outputs": [],
   "source": [
    "import pandas as pd\n",
    "import numpy as np\n",
    "from sklearn import tree"
   ]
  },
  {
   "cell_type": "markdown",
   "metadata": {},
   "source": [
    "## 2. Load data\n",
    "TELL: We're going to load our data from the CSV file we saw before - it looks just like a spreadsheet, but we want to be able to access the information using code rather than reading the whole thing as humans. The data.head() line shows us the first few rows so we can get a sense of what the rest of the data holds -- we COULD show the whole dataset (ONLY FACILITATOR DO: demonstrate creating a new cell, writing data, and showing output) -- but that's not particularly useful.\n",
    "\n",
    "Notice that you can scroll horizontally."
   ]
  },
  {
   "cell_type": "code",
   "execution_count": 2,
   "metadata": {},
   "outputs": [
    {
     "data": {
      "text/html": [
       "<div>\n",
       "<style scoped>\n",
       "    .dataframe tbody tr th:only-of-type {\n",
       "        vertical-align: middle;\n",
       "    }\n",
       "\n",
       "    .dataframe tbody tr th {\n",
       "        vertical-align: top;\n",
       "    }\n",
       "\n",
       "    .dataframe thead th {\n",
       "        text-align: right;\n",
       "    }\n",
       "</style>\n",
       "<table border=\"1\" class=\"dataframe\">\n",
       "  <thead>\n",
       "    <tr style=\"text-align: right;\">\n",
       "      <th></th>\n",
       "      <th>department</th>\n",
       "      <th>region</th>\n",
       "      <th>termination_date</th>\n",
       "      <th>bracket_salary 1</th>\n",
       "      <th>salary</th>\n",
       "      <th>satisfaction_level</th>\n",
       "      <th>last_evaluation</th>\n",
       "      <th>number_project</th>\n",
       "      <th>average_monthly_hours</th>\n",
       "      <th>time_spend_company</th>\n",
       "      <th>work_accident</th>\n",
       "      <th>promotion_last_5years</th>\n",
       "      <th>resigned</th>\n",
       "    </tr>\n",
       "  </thead>\n",
       "  <tbody>\n",
       "    <tr>\n",
       "      <td>0</td>\n",
       "      <td>technical</td>\n",
       "      <td>US</td>\n",
       "      <td>2015-06-27T00:00:00Z</td>\n",
       "      <td>low</td>\n",
       "      <td>52000</td>\n",
       "      <td>0.82</td>\n",
       "      <td>0.63</td>\n",
       "      <td>4</td>\n",
       "      <td>232</td>\n",
       "      <td>4</td>\n",
       "      <td>0</td>\n",
       "      <td>0</td>\n",
       "      <td>0</td>\n",
       "    </tr>\n",
       "    <tr>\n",
       "      <td>1</td>\n",
       "      <td>product_mng</td>\n",
       "      <td>Europe</td>\n",
       "      <td>2017-02-24T00:00:00Z</td>\n",
       "      <td>low</td>\n",
       "      <td>36000</td>\n",
       "      <td>0.72</td>\n",
       "      <td>0.79</td>\n",
       "      <td>4</td>\n",
       "      <td>154</td>\n",
       "      <td>3</td>\n",
       "      <td>0</td>\n",
       "      <td>0</td>\n",
       "      <td>0</td>\n",
       "    </tr>\n",
       "    <tr>\n",
       "      <td>2</td>\n",
       "      <td>sales</td>\n",
       "      <td>Canada</td>\n",
       "      <td>2008-12-06T00:00:00Z</td>\n",
       "      <td>medium</td>\n",
       "      <td>77000</td>\n",
       "      <td>0.71</td>\n",
       "      <td>0.88</td>\n",
       "      <td>3</td>\n",
       "      <td>140</td>\n",
       "      <td>2</td>\n",
       "      <td>0</td>\n",
       "      <td>0</td>\n",
       "      <td>0</td>\n",
       "    </tr>\n",
       "    <tr>\n",
       "      <td>3</td>\n",
       "      <td>support</td>\n",
       "      <td>US</td>\n",
       "      <td>2015-11-22T00:00:00Z</td>\n",
       "      <td>medium</td>\n",
       "      <td>70000</td>\n",
       "      <td>0.53</td>\n",
       "      <td>0.75</td>\n",
       "      <td>4</td>\n",
       "      <td>239</td>\n",
       "      <td>2</td>\n",
       "      <td>1</td>\n",
       "      <td>0</td>\n",
       "      <td>0</td>\n",
       "    </tr>\n",
       "    <tr>\n",
       "      <td>4</td>\n",
       "      <td>technical</td>\n",
       "      <td>US</td>\n",
       "      <td>2009-03-29T00:00:00Z</td>\n",
       "      <td>medium</td>\n",
       "      <td>76000</td>\n",
       "      <td>0.49</td>\n",
       "      <td>0.49</td>\n",
       "      <td>2</td>\n",
       "      <td>245</td>\n",
       "      <td>3</td>\n",
       "      <td>0</td>\n",
       "      <td>0</td>\n",
       "      <td>0</td>\n",
       "    </tr>\n",
       "  </tbody>\n",
       "</table>\n",
       "</div>"
      ],
      "text/plain": [
       "    department  region      termination_date bracket_salary 1  salary  \\\n",
       "0    technical      US  2015-06-27T00:00:00Z              low   52000   \n",
       "1  product_mng  Europe  2017-02-24T00:00:00Z              low   36000   \n",
       "2        sales  Canada  2008-12-06T00:00:00Z           medium   77000   \n",
       "3      support      US  2015-11-22T00:00:00Z           medium   70000   \n",
       "4    technical      US  2009-03-29T00:00:00Z           medium   76000   \n",
       "\n",
       "   satisfaction_level  last_evaluation  number_project  average_monthly_hours  \\\n",
       "0                0.82             0.63               4                    232   \n",
       "1                0.72             0.79               4                    154   \n",
       "2                0.71             0.88               3                    140   \n",
       "3                0.53             0.75               4                    239   \n",
       "4                0.49             0.49               2                    245   \n",
       "\n",
       "   time_spend_company  work_accident  promotion_last_5years  resigned  \n",
       "0                   4              0                      0         0  \n",
       "1                   3              0                      0         0  \n",
       "2                   2              0                      0         0  \n",
       "3                   2              1                      0         0  \n",
       "4                   3              0                      0         0  "
      ]
     },
     "execution_count": 2,
     "metadata": {},
     "output_type": "execute_result"
    }
   ],
   "source": [
    "data = pd.read_csv(\"HR_data.csv\")\n",
    "data.head()"
   ]
  },
  {
   "cell_type": "markdown",
   "metadata": {},
   "source": [
    "## 3. Build model\n",
    "TELL: Now that we have our dataset, we're ready to begin modelling to build our automated decision tree. As we've discussed before, machine learning works by taking inputs and learning to map them to outputs. We'll use a premade tool for modelling (similar to the premade template we used in the human-powered tree).\n",
    "\n",
    "SHOW: https://scikit-learn.org/stable/modules/tree.html and talk through example.\n",
    "\n",
    "We need to tell the model what the inputs and outputs should be. We'll use the standard names X and Y.\n",
    "\n",
    "Let's start with the output -- which column are we trying to predict? \"resigned\"\n",
    "Notice that the values of the resigned column have been converted from No/Yes into 0/1. This is because our tree handles only numerical data.\n",
    "\n",
    "We want to use all rows of the \"resigned column,\" which in Python we write as:\n",
    "Y = data.loc[:, \"resigned\"]\n",
    "\n",
    "What will we use to predict whether each person resigned? We might be tempted to use \"the rest,\" but remember: our tree can only use numerical data. In the human-powered one, we saw there was a difference between words and numbers. For example, we could say \"Department is equal to Sales,\" but not \"Department is greater than Sales.\" So we want all rows, but only the columns with numerical data, which appear from the column \"salary\" to the column \"promotion_last_5years.\" In Python, we write it as:\n",
    "\n",
    "X = data.loc[:, \"salary\":\"promotion_last_5years\"]"
   ]
  },
  {
   "cell_type": "code",
   "execution_count": 3,
   "metadata": {},
   "outputs": [],
   "source": [
    "# Learners write this\n",
    "# Look at your data and determine the columns for your output (Y) and usable input (X)\n",
    "Y = data.loc[:, \"resigned\"]\n",
    "X = data.loc[:, \"salary\":\"promotion_last_5years\"]"
   ]
  },
  {
   "cell_type": "markdown",
   "metadata": {},
   "source": [
    "TELL: You might notice our code here is pretty minimal and matches the documentation closely. Data scientists typically try to use standard notation and naming conventions so that it's easier to collaborate and reuse code. The only difference you'll see between this code and the documentation is that we've specified that we want our tree to be only up to 2 layers deep, just like our human-powered version."
   ]
  },
  {
   "cell_type": "code",
   "execution_count": 4,
   "metadata": {},
   "outputs": [],
   "source": [
    "clf = tree.DecisionTreeClassifier(max_depth = 2)\n",
    "clf = clf.fit(X, Y)"
   ]
  },
  {
   "cell_type": "markdown",
   "metadata": {},
   "source": [
    "## 4. Evaluate\n",
    "\n",
    "TELL: That's it! That's it? How do you know whether this is a good tree? It'd be great to get a sense of how accurately it sorted the data."
   ]
  },
  {
   "cell_type": "code",
   "execution_count": 5,
   "metadata": {},
   "outputs": [
    {
     "data": {
      "text/plain": [
       "0.8525374376039934"
      ]
     },
     "execution_count": 5,
     "metadata": {},
     "output_type": "execute_result"
    }
   ],
   "source": [
    "clf.score(X,Y)"
   ]
  },
  {
   "cell_type": "markdown",
   "metadata": {},
   "source": [
    "TELL: That seems OK. We noted before that humans are difficult to make predictions about, so it's not surprising that with only two layers, we don't reach 100% accuracy.\n",
    "\n",
    "Let's see what questions were chosen."
   ]
  },
  {
   "cell_type": "code",
   "execution_count": null,
   "metadata": {},
   "outputs": [],
   "source": [
    "import graphviz\n",
    "\n",
    "dot_data = tree.export_graphviz(clf, out_file=None, \n",
    "                         feature_names = X.columns,  \n",
    "                         class_names = [\"stay\",\"leave\"],  \n",
    "                         filled=True, rounded=True,  \n",
    "                         special_characters=True)  \n",
    "graph = graphviz.Source(dot_data)  \n",
    "graph "
   ]
  },
  {
   "cell_type": "markdown",
   "metadata": {},
   "source": [
    "ASK: Did anyone ask similar questions? We wouldn't expect the questions to be identical to any human-powered tree because we used two different data sets.\n",
    "\n",
    "TELL: So now we're ready to make our prediction. We could manually trace our tree to predict our original question, \"Will Maria quit?\", or we could use code."
   ]
  },
  {
   "cell_type": "code",
   "execution_count": 8,
   "metadata": {},
   "outputs": [
    {
     "data": {
      "text/plain": [
       "array([0])"
      ]
     },
     "execution_count": 8,
     "metadata": {},
     "output_type": "execute_result"
    }
   ],
   "source": [
    "maria_data = (np.array([[58000, .82, .85, 4, 274, 5, 0, 0]]))\n",
    "clf.predict(maria_data)"
   ]
  },
  {
   "cell_type": "code",
   "execution_count": null,
   "metadata": {},
   "outputs": [],
   "source": []
  }
 ],
 "metadata": {
  "kernelspec": {
   "display_name": "Python 3",
   "language": "python",
   "name": "python3"
  },
  "language_info": {
   "codemirror_mode": {
    "name": "ipython",
    "version": 3
   },
   "file_extension": ".py",
   "mimetype": "text/x-python",
   "name": "python",
   "nbconvert_exporter": "python",
   "pygments_lexer": "ipython3",
   "version": "3.7.4"
  }
 },
 "nbformat": 4,
 "nbformat_minor": 2
}
