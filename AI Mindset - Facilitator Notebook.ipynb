{
 "cells": [
  {
   "cell_type": "markdown",
   "metadata": {},
   "source": [
    "## 1. Import libraries\n",
    "\n",
    "TELL: These are tools we are using that someone else already wrote. This is what data scientists do in practice - the hard part is determining what to do, not neccessarily how to do it. Here, we'll use *pandas* to manipulate our data and *sklearn* to build our decision tree model."
   ]
  },
  {
   "cell_type": "code",
   "execution_count": null,
   "metadata": {},
   "outputs": [],
   "source": [
    "import pandas as pd\n",
    "from sklearn import tree"
   ]
  },
  {
   "cell_type": "markdown",
   "metadata": {},
   "source": [
    "## 2. Load data\n",
    "TELL: We're going to load our data from the CSV file we saw before - it looks just like a spreadsheet, but we want to be able to access the information using code rather than reading the whole thing as humans. The data.head() line shows us the first few rows so we can get a sense of what the rest of the data holds -- we COULD show the whole dataset (ONLY FACILITATOR DO: demonstrate creating a new cell, writing data, and showing output) -- but that's not particularly useful.\n",
    "\n",
    "Notice that you can scroll horizontally."
   ]
  },
  {
   "cell_type": "code",
   "execution_count": null,
   "metadata": {},
   "outputs": [],
   "source": [
    "data = pd.read_csv(\"HR_data.csv\")\n",
    "data.head()"
   ]
  },
  {
   "cell_type": "markdown",
   "metadata": {},
   "source": [
    "## 3. Build model\n",
    "TELL: Now that we have our dataset, we're ready to begin modelling to build our automated decision tree. As we've discussed before, machine learning works by taking inputs and learning to map them to outputs. We'll use a premade tool for modelling (similar to the premade template we used in the human-powered tree).\n",
    "\n",
    "SHOW: https://scikit-learn.org/stable/modules/tree.html and talk through example.\n",
    "\n",
    "We need to tell the model what the inputs and outputs should be. We'll use the standard names X and Y.\n",
    "\n",
    "Let's start with the output -- which column are we trying to predict? \"resigned\"\n",
    "Notice that the values of the resigned column have been converted from No/Yes into 0/1. This is because our tree handles only numerical data.\n",
    "\n",
    "We want to use all rows of the \"resigned column,\" which in Python we write as:\n",
    "Y = data.loc[:, \"resigned\"]\n",
    "\n",
    "What will we use to predict whether each person resigned? We might be tempted to use \"the rest,\" but remember: our tree can only use numerical data. In the human-powered one, we saw there was a difference between words and numbers. For example, we could say \"Department is equal to Sales,\" but not \"Department is greater than Sales.\" So we want all rows, but only the columns with numerical data, which appear from the column \"salary\" to the column \"promotion_last_5years.\" In Python, we write it as:\n",
    "\n",
    "X = data.loc[:, \"salary\":\"promotion_last_5years\"]"
   ]
  },
  {
   "cell_type": "code",
   "execution_count": null,
   "metadata": {},
   "outputs": [],
   "source": [
    "# Learners write this\n",
    "# Look at your data and determine the columns for your output (Y) and usable input (X)\n",
    "Y = data.loc[:, \"resigned\"]\n",
    "X = data.loc[:, \"salary\":\"promotion_last_5years\"]"
   ]
  },
  {
   "cell_type": "markdown",
   "metadata": {},
   "source": [
    "TELL: You might notice our code here is pretty minimal and matches the documentation closely. Data scientists typically try to use standard notation and naming conventions so that it's easier to collaborate and reuse code. The only difference you'll see between this code and the documentation is that we've specified that we want our tree to be only up to 2 layers deep, just like our human-powered version."
   ]
  },
  {
   "cell_type": "code",
   "execution_count": null,
   "metadata": {},
   "outputs": [],
   "source": [
    "clf = tree.DecisionTreeClassifier(max_depth = 2)\n",
    "clf = clf.fit(X, Y)"
   ]
  },
  {
   "cell_type": "markdown",
   "metadata": {},
   "source": [
    "## 4. Evaluate\n",
    "\n",
    "TELL: That's it! That's it? How do you know whether this is a good tree? It'd be great to get a sense of how accurately it sorted the data."
   ]
  },
  {
   "cell_type": "code",
   "execution_count": null,
   "metadata": {},
   "outputs": [],
   "source": [
    "clf.score(X,Y)"
   ]
  },
  {
   "cell_type": "markdown",
   "metadata": {},
   "source": [
    "TELL: That seems OK. We noted before that humans are difficult to make predictions about, so it's not surprising that with only two layers, we don't reach 100% accuracy.\n",
    "\n",
    "Let's see what questions were chosen."
   ]
  },
  {
   "cell_type": "code",
   "execution_count": null,
   "metadata": {},
   "outputs": [],
   "source": [
    "import graphviz\n",
    "\n",
    "dot_data = tree.export_graphviz(clf, out_file=None, \n",
    "                         feature_names = X.columns,  \n",
    "                         class_names = [\"stay\",\"leave\"],  \n",
    "                         filled=True, rounded=True,  \n",
    "                         special_characters=True)  \n",
    "graph = graphviz.Source(dot_data)  \n",
    "graph "
   ]
  },
  {
   "cell_type": "markdown",
   "metadata": {},
   "source": [
    "ASK: Did anyone ask similar questions? We wouldn't expect the questions to be identical to any human-powered tree because we used two different data sets.\n",
    "\n",
    "TELL: So now we're ready to make our prediction. We could manually trace our tree to predict our original question, \"Will Maria quit?\", or we could use code."
   ]
  },
  {
   "cell_type": "code",
   "execution_count": null,
   "metadata": {},
   "outputs": [],
   "source": [
    "#TODO: Add Maria info\n",
    "clf.predict[MARIA]"
   ]
  }
 ],
 "metadata": {
  "kernelspec": {
   "display_name": "Python 3",
   "language": "python",
   "name": "python3"
  },
  "language_info": {
   "codemirror_mode": {
    "name": "ipython",
    "version": 3
   },
   "file_extension": ".py",
   "mimetype": "text/x-python",
   "name": "python",
   "nbconvert_exporter": "python",
   "pygments_lexer": "ipython3",
   "version": "3.7.4"
  }
 },
 "nbformat": 4,
 "nbformat_minor": 2
}
